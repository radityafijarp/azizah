{
 "cells": [
  {
   "cell_type": "code",
   "execution_count": 29,
   "metadata": {},
   "outputs": [
    {
     "name": "stdout",
     "output_type": "stream",
     "text": [
      "ACT\n",
      "ACTATGCGACT\n"
     ]
    }
   ],
   "source": [
    "#Part 1\n",
    "def reverse_pattern(pattern):\n",
    "    dnaPair=\"\"\n",
    "\n",
    "    for i in pattern:\n",
    "        if i == \"A\":\n",
    "            base=\"T\"\n",
    "        elif i == \"T\":\n",
    "            base=\"A\"\n",
    "        elif i == \"G\":\n",
    "            base=\"C\"\n",
    "        elif i == \"C\":\n",
    "            base = \"G\"\n",
    "        \n",
    "        dnaPair=base+dnaPair\n",
    "    return dnaPair\n",
    "\n",
    "print(reverse_pattern(\"AGT\"))\n",
    "print(reverse_pattern(\"AGTCGCATAGT\"))"
   ]
  },
  {
   "cell_type": "code",
   "execution_count": 30,
   "metadata": {},
   "outputs": [
    {
     "name": "stdout",
     "output_type": "stream",
     "text": [
      "4\n",
      "5\n"
     ]
    }
   ],
   "source": [
    "# Part 2\n",
    "def count_k_mer(genome,pattern):\n",
    "    reverse_complement=reverse_pattern(pattern)\n",
    "    count_k=0\n",
    "\n",
    "    for i in range(len(genome)-len(pattern)+1):\n",
    "        combination=genome[i:i+len(pattern)]\n",
    "        if combination == reverse_complement or combination ==pattern:\n",
    "            count_k=count_k+1\n",
    "    return count_k\n",
    "\n",
    "print(count_k_mer('ACAACTATGCATACTATCGGGAACTATCCTATAGT', 'ACTAT'))\n",
    "print( count_k_mer('CGATATATCCATAG', 'ATA'))"
   ]
  },
  {
   "cell_type": "code",
   "execution_count": 31,
   "metadata": {},
   "outputs": [],
   "source": [
    "gen=\"ATCAATGATCAACGTAAGCTTCTAAGCATGATCAAGGTGCTCACACAGTTTATCCACAACCTGAGTGGATGACATCAAGATAGGTCGTTGTATCTCCTTCCTCTCGTACTCTCATGACCACGGAAAGATGATCAAGAGAGGATGATTTCTTGGCCATATCGCAATGAATACTTGTGACTTGTGCTTCCAATTGACATCTTCAGCGCCATATTGCGCTGGCCAAGGTGACGGAGCGGGATTACGAAAGCATGATCATGGCTGTTGTTCTGTTTATCTTGTTTTGACTGAGACTTGTTAGGATAGACGGTTTTTCATCACTGACTAGCCAAAGCCTTACTCTGCCTGACATCGACCGTAAATTGATAATGAATTTACATGCTTCCGCGACGATTTACCTCTTGATCATCGATCCGATTGAAGATCTTCAATTGTTAATTCTCTTGCCTCGACTCATAGCCATGATGAGCTCTTGATCATGTTTCCTTAACCCTCTATTTTTTACGGAAGAATGATCAAGCTGCTGCTCTTGATCATCGTTTC\""
   ]
  },
  {
   "cell_type": "code",
   "execution_count": 40,
   "metadata": {},
   "outputs": [],
   "source": [
    "# Part 3\n",
    "def frequent_k_mer(genome, k):\n",
    "    result=[]\n",
    "    k_mer_count={}\n",
    "    max=0\n",
    "    for i in range(len(genome)-k+1):\n",
    "        k_mer_count[genome[i:i+k]]=count_k_mer(genome,genome[i:i+k])\n",
    "    for key in k_mer_count:\n",
    "        if k_mer_count[key]>max:\n",
    "            max=k_mer_count[key]\n",
    "    for key in k_mer_count:\n",
    "        if k_mer_count[key]==max:\n",
    "            result.append(key)\n",
    "    # print(max)\n",
    "    # print(k_mer_count)\n",
    "    return(result)\n",
    "print(frequent_k_mer(gen,3))"
   ]
  },
  {
   "cell_type": "code",
   "execution_count": 42,
   "metadata": {},
   "outputs": [
    {
     "name": "stdout",
     "output_type": "stream",
     "text": [
      "['ATC', 'TCA', 'TGA', 'GAT']\n"
     ]
    }
   ],
   "source": []
  }
 ],
 "metadata": {
  "kernelspec": {
   "display_name": "spyder-cf",
   "language": "python",
   "name": "python3"
  },
  "language_info": {
   "codemirror_mode": {
    "name": "ipython",
    "version": 3
   },
   "file_extension": ".py",
   "mimetype": "text/x-python",
   "name": "python",
   "nbconvert_exporter": "python",
   "pygments_lexer": "ipython3",
   "version": "3.10.9"
  }
 },
 "nbformat": 4,
 "nbformat_minor": 2
}
